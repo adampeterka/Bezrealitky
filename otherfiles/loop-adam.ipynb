{
 "cells": [
  {
   "cell_type": "code",
   "execution_count": 2,
   "metadata": {},
   "outputs": [],
   "source": [
    "import requests\n",
    "from bs4 import BeautifulSoup\n",
    "import pandas as pd\n",
    "import time\n",
    "from IPython.core.debugger import Tracer\n",
    "\n",
    "class bezrea_Web:\n",
    "    def __init__(self,link,allowLog=True):\n",
    "        self.allowLog = allowLog\n",
    "        self.link = link\n",
    "        r = requests.get(link)\n",
    "        r.encoding='UTF-8'\n",
    "        self.soup = BeautifulSoup(r.text,'lxml')\n",
    "        if self.allowLog:\n",
    "            print('succes bitch')\n",
    "\n",
    "    def parseTitle(self):\n",
    "        return soup.find(\"title\").text\n",
    "    \n",
    "    def parseDescription(self):\n",
    "        return soup.find(\"p\",attrs={\"class\":\"b-desc__info\"}).text.strip()\n",
    "    \n",
    "    def parseTable(self):\n",
    "        pdTbl = pd.read_html(self)\n",
    "        offrTbl = pdTbl[1].dropna(axis=0, thresh=4)\n",
    "        return offrTbl\n"
   ]
  },
  {
   "cell_type": "code",
   "execution_count": null,
   "metadata": {},
   "outputs": [],
   "source": []
  }
 ],
 "metadata": {
  "kernelspec": {
   "display_name": "Python 3",
   "language": "python",
   "name": "python3"
  },
  "language_info": {
   "codemirror_mode": {
    "name": "ipython",
    "version": 3
   },
   "file_extension": ".py",
   "mimetype": "text/x-python",
   "name": "python",
   "nbconvert_exporter": "python",
   "pygments_lexer": "ipython3",
   "version": "3.7.1"
  }
 },
 "nbformat": 4,
 "nbformat_minor": 2
}
