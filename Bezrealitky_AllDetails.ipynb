{
 "cells": [
  {
   "cell_type": "code",
   "execution_count": 8,
   "metadata": {},
   "outputs": [],
   "source": [
    "from requests import get\n",
    "import requests\n",
    "from bs4 import BeautifulSoup\n",
    "import pandas as pd\n",
    "import time\n",
    "import urllib\n",
    "from IPython.core.debugger import Tracer\n",
    "headers = ({'User-Agent':\n",
    "            'Mozilla/5.0 (Windows NT 6.1) AppleWebKit/537.36 (KHTML, like Gecko) Chrome/41.0.2228.0 Safari/537.36'})"
   ]
  },
  {
   "cell_type": "code",
   "execution_count": 10,
   "metadata": {},
   "outputs": [],
   "source": [
    "sapo = \"https://www.bezrealitky.cz/nemovitosti-byty-domy/539200-nabidka-prodej-bytu-tetinska-hlavni-mesto-praha\"\n",
    "response = get(sapo, headers=headers)"
   ]
  },
  {
   "cell_type": "code",
   "execution_count": 86,
   "metadata": {},
   "outputs": [],
   "source": [
    "webpage = urllib.request.urlopen(\"https://www.bezrealitky.cz/nemovitosti-byty-domy/539200-nabidka-prodej-bytu-tetinska-hlavni-mesto-praha\")\n",
    "soup = BeautifulSoup(webpage,'lxml')\n",
    "title = soup.find(\"meta\",  property=\"og:title\")[\"content\"]\n",
    "description = soup.find(\"meta\", property=\"og:description\")[\"content\"]\n",
    "\n",
    "\n",
    "##need to get number from text\n",
    "price = soup.find(\"p\", attrs ={\"class\":\"heading__side\"}).text\n",
    "commissionSavings = soup.find(\"div\", attrs = {\"class\":\"alert alert-icon alert-shadow alert-warning alert-border mb-15\"}).find(\"strong\").text\n",
    "availableFrom = soup.find(\"div\", attrs = {\"class\":\"box__bg\"}).find(\"p\").text\n",
    "\n",
    "howManyViewedByToday = soup.find(\"p\", attrs = {\"class\":\"text-center pt-20 pl-30 pr-30 pb-10\"}).find(\"strong\").text\n",
    "description = soup.find(\"div\", attrs={\"data-element\":\"detail-description\"}).text\n",
    "\n",
    "##need to extract coordinates\n",
    "coordinates = soup.findAll(\"iframe\")[1]\n",
    "\n",
    "\n",
    "##not a table but a list, dunno\n",
    "parametr_table= pd.read_html(\"http://www.bezrealitky.cz/nemovitosti-byty-domy/539200-nabidka-prodej-bytu-tetinska-hlavni-mesto-praha\",attrs= {\"class\":\"table\"})"
   ]
  },
  {
   "cell_type": "code",
   "execution_count": 87,
   "metadata": {},
   "outputs": [
    {
     "name": "stdout",
     "output_type": "stream",
     "text": [
      "\n",
      "                            7.495.000 Kč\n",
      "                        \n"
     ]
    }
   ],
   "source": [
    "print(price)"
   ]
  },
  {
   "cell_type": "code",
   "execution_count": 78,
   "metadata": {},
   "outputs": [],
   "source": [
    "coordinates = soup.findAll(\"iframe\")"
   ]
  },
  {
   "cell_type": "code",
   "execution_count": 85,
   "metadata": {},
   "outputs": [
    {
     "ename": "NameError",
     "evalue": "name 're' is not defined",
     "output_type": "error",
     "traceback": [
      "\u001b[1;31m---------------------------------------------------------------------------\u001b[0m",
      "\u001b[1;31mNameError\u001b[0m                                 Traceback (most recent call last)",
      "\u001b[1;32m<ipython-input-85-3de376b84016>\u001b[0m in \u001b[0;36m<module>\u001b[1;34m\u001b[0m\n\u001b[1;32m----> 1\u001b[1;33m \u001b[0mm\u001b[0m \u001b[1;33m=\u001b[0m \u001b[0mre\u001b[0m\u001b[1;33m.\u001b[0m\u001b[0msearch\u001b[0m\u001b[1;33m(\u001b[0m\u001b[0mavailablefrom\u001b[0m\u001b[1;33m,\u001b[0m \u001b[0mtext\u001b[0m\u001b[1;33m)\u001b[0m\u001b[1;33m\u001b[0m\u001b[1;33m\u001b[0m\u001b[0m\n\u001b[0m",
      "\u001b[1;31mNameError\u001b[0m: name 're' is not defined"
     ]
    }
   ],
   "source": [
    "m = re.search(availablefrom, text)"
   ]
  },
  {
   "cell_type": "code",
   "execution_count": 39,
   "metadata": {},
   "outputs": [
    {
     "name": "stdout",
     "output_type": "stream",
     "text": [
      "<strong>ušetříte 299.800 Kč za provizi</strong>\n"
     ]
    }
   ],
   "source": [
    "print(commissionSavingsBox)"
   ]
  },
  {
   "cell_type": "code",
   "execution_count": 88,
   "metadata": {},
   "outputs": [],
   "source": [
    "tableWithParameters = soup.find(\"table\")"
   ]
  },
  {
   "cell_type": "code",
   "execution_count": 94,
   "metadata": {},
   "outputs": [],
   "source": [
    "parametr_table= pd.read_html(\"http://www.bezrealitky.cz/nemovitosti-byty-domy/539200-nabidka-prodej-bytu-tetinska-hlavni-mesto-praha\",attrs= {\"class\":\"table\"})"
   ]
  },
  {
   "cell_type": "code",
   "execution_count": 98,
   "metadata": {},
   "outputs": [
    {
     "data": {
      "text/plain": [
       "[                   0             1                        2\n",
       " 0    Dostupnost UPC:        Ověřit                      NaN\n",
       " 1    Číslo inzerátu:        539200                      NaN\n",
       " 2         Dispozice:          3+kk                      NaN\n",
       " 3            Plocha:         88 m²                      NaN\n",
       " 4              Cena:  7.495.000 Kč         Chci hypotéku  i\n",
       " 5             Město:         Praha                      NaN\n",
       " 6      Městská část:       Radlice                      NaN\n",
       " 7   Typ vlastnictví:        Osobní                      NaN\n",
       " 8        Typ budovy:         Cihla                      NaN\n",
       " 9        Novostavba:           Ano                      NaN\n",
       " 10             PENB:             G                      NaN\n",
       " 11       Vybavenost:      Částečně  Chci půjčku na vybavení\n",
       " 12          Podlaží:             1                      NaN\n",
       " 13           Balkón:           Ano                      NaN\n",
       " 14           Terasa:            Ne                      NaN\n",
       " 15   K dispozici od:      1.3.2019                      NaN]"
      ]
     },
     "execution_count": 98,
     "metadata": {},
     "output_type": "execute_result"
    }
   ],
   "source": [
    "parametr_table"
   ]
  }
 ],
 "metadata": {
  "kernelspec": {
   "display_name": "Python 3",
   "language": "python",
   "name": "python3"
  },
  "language_info": {
   "codemirror_mode": {
    "name": "ipython",
    "version": 3
   },
   "file_extension": ".py",
   "mimetype": "text/x-python",
   "name": "python",
   "nbconvert_exporter": "python",
   "pygments_lexer": "ipython3",
   "version": "3.7.1"
  }
 },
 "nbformat": 4,
 "nbformat_minor": 2
}
