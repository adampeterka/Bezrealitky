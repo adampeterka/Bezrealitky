{
 "cells": [
  {
   "cell_type": "code",
   "execution_count": 85,
   "metadata": {},
   "outputs": [],
   "source": [
    "import requests\n",
    "from requests import get\n",
    "from bs4 import BeautifulSoup\n",
    "import pandas as pd\n",
    "import re\n",
    "headers = ({'User-Agent':\n",
    "            'Mozilla/5.0 (Windows NT 6.1) AppleWebKit/537.36 (KHTML, like Gecko) Chrome/41.0.2228.0 Safari/537.36'})"
   ]
  },
  {
   "cell_type": "code",
   "execution_count": 3,
   "metadata": {},
   "outputs": [],
   "source": [
    "bezrea = \"https://www.bezrealitky.cz/nemovitosti-byty-domy/539200-nabidka-prodej-bytu-tetinska-hlavni-mesto-praha\"\n",
    "response = get(bezrea, headers=headers)"
   ]
  },
  {
   "cell_type": "code",
   "execution_count": 86,
   "metadata": {},
   "outputs": [],
   "source": [
    "webpage = urllib.request.urlopen(\"https://www.bezrealitky.cz/nemovitosti-byty-domy/559094-nabidka-prodej-bytu-varsavska-hlavni-mesto-praha\")\n",
    "soup = BeautifulSoup(webpage,'lxml')\n",
    "title = soup.find(\"meta\",  property=\"og:title\")[\"content\"]\n",
    "description_meta = soup.find(\"meta\", property=\"og:description\")[\"content\"]\n",
    "\n",
    "\n",
    "\n",
    "price = int(''.join(re.findall(r'\\d+',soup.find(\"p\", attrs ={\"class\":\"heading__side\"}).text)))\n",
    "commissionSavings = int(''.join(re.findall(r'\\d+',soup.find(\"div\", attrs = {\"class\":\"alert alert-icon alert-shadow alert-warning alert-border mb-15\"}).find(\"strong\").text)))\n",
    "availableFromString = '.'.join(re.findall(r'\\d+',soup.find(\"div\", attrs = {\"class\":\"box__bg\"}).find(\"p\").text))\n",
    "\n",
    "\n",
    "howManyViewedByToday = soup.find(\"p\", attrs = {\"class\":\"text-center pt-20 pl-30 pr-30 pb-10\"}).find(\"strong\").text\n",
    "\n",
    "\n",
    "description_body = soup.find(\"div\", attrs={\"data-element\":\"detail-description\"}).text\n",
    "descriptionCZE= description_body.split('Show')[0].split('Popis')[1]\n",
    "descriptionENG = description_body.split('Description')[1].split('Reklama')[0]\n",
    "\n",
    "\n",
    "coordinates = soup.findAll(\"iframe\")[1]['src']\n",
    "length = '.'.join([re.findall(r'\\d+',coordinates)[1],re.findall(r'\\d+',coordinates)[2]])\n",
    "width = '.'.join([re.findall(r'\\d+',coordinates)[3],re.findall(r'\\d+',coordinates)[4]])\n",
    "\n",
    "\n",
    "parametr_table= pd.read_html(\"http://www.bezrealitky.cz/nemovitosti-byty-domy/539200-nabidka-prodej-bytu-tetinska-hlavni-mesto-praha\",attrs= {\"class\":\"table\"})\n",
    "infoDict = dict(zip(parametr_table[0][0],parametr_table[0][1]))"
   ]
  },
  {
   "cell_type": "code",
   "execution_count": 87,
   "metadata": {},
   "outputs": [
    {
     "name": "stdout",
     "output_type": "stream",
     "text": [
      "{'Dostupnost UPC:': 'Ověřit', 'Číslo inzerátu:': '539200', 'Dispozice:': '3+kk', 'Plocha:': '88 m²', 'Cena:': '7.495.000 Kč', 'Město:': 'Praha', 'Městská část:': 'Radlice', 'Typ vlastnictví:': 'Osobní', 'Typ budovy:': 'Cihla', 'Novostavba:': 'Ano', 'PENB:': 'G', 'Vybavenost:': 'Částečně', 'Podlaží:': '1', 'Balkón:': 'Ano', 'Terasa:': 'Ne', 'K dispozici od:': '1.3.2019'}\n"
     ]
    }
   ],
   "source": [
    "print(infoDict)"
   ]
  }
 ],
 "metadata": {
  "kernelspec": {
   "display_name": "Python 3",
   "language": "python",
   "name": "python3"
  },
  "language_info": {
   "codemirror_mode": {
    "name": "ipython",
    "version": 3
   },
   "file_extension": ".py",
   "mimetype": "text/x-python",
   "name": "python",
   "nbconvert_exporter": "python",
   "pygments_lexer": "ipython3",
   "version": "3.7.1"
  }
 },
 "nbformat": 4,
 "nbformat_minor": 2
}
