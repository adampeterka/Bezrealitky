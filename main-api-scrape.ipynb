{
 "cells": [
  {
   "cell_type": "code",
   "execution_count": 4,
   "metadata": {},
   "outputs": [],
   "source": [
    "#import of all used libraries\n",
    "\n",
    "import requests\n",
    "from requests import get\n",
    "from bs4 import BeautifulSoup\n",
    "import pandas as pd\n",
    "import json\n",
    "import sys\n",
    "import simplejson\n",
    "import asyncio\n",
    "import numpy as np\n",
    "import matplotlib.pyplot as plt\n",
    "import seaborn as sns\n",
    "sns.set()\n",
    "import urllib\n",
    "import re\n",
    "\n",
    "#bezreaWebScrape.py file contains class bezrea_Web from which individual functions are used to scrape content from web \n",
    "from bezreaWebScrape import bezrea_Web as bz"
   ]
  },
  {
   "cell_type": "code",
   "execution_count": 5,
   "metadata": {},
   "outputs": [
    {
     "name": "stdout",
     "output_type": "stream",
     "text": [
      "Success!\n"
     ]
    }
   ],
   "source": [
    "#connection set up to the url with links to all offers\n",
    "from requests.exceptions import HTTPError\n",
    "\n",
    "for url in ['https://www.bezrealitky.cz/api/record/markers?offerType=prodej&estateType=byt&locationInput=Praha']:\n",
    "    try:\n",
    "        response = requests.get(url)\n",
    "        response.raise_for_status()\n",
    "    except HTTPError as http_err:\n",
    "        print(f'HTTP error occurred: {http_err}')\n",
    "    except Exception as err:\n",
    "        print(f'Other error occurred: {err}')\n",
    "    else:\n",
    "        print('Success!')"
   ]
  },
  {
   "cell_type": "code",
   "execution_count": 6,
   "metadata": {},
   "outputs": [],
   "source": [
    "#saving response in json to a \"urls\" variable\n",
    "urls = response.json()"
   ]
  },
  {
   "cell_type": "code",
   "execution_count": 7,
   "metadata": {},
   "outputs": [],
   "source": [
    "#nicer form of json\n",
    "wjdata = json.dumps(response.json(), indent=4, separators=(\", \", \" = \"))"
   ]
  },
  {
   "cell_type": "code",
   "execution_count": 8,
   "metadata": {},
   "outputs": [],
   "source": [
    "#saves this data in the api-output file\n",
    "f = open(\"api-output.json\",\"w\")\n",
    "f.write(wjdata)\n",
    "f.close()"
   ]
  },
  {
   "cell_type": "code",
   "execution_count": 9,
   "metadata": {},
   "outputs": [],
   "source": [
    "#sources all uri when an estate is \"iDeveloper\" type - links to offers offered by developer accounts\n",
    "uriDeveloper = []\n",
    "for element in urls:\n",
    "    if element['type'] == 'iDeveloper':\n",
    "        uriDeveloper.append(element['uri'])"
   ]
  },
  {
   "cell_type": "code",
   "execution_count": 10,
   "metadata": {},
   "outputs": [],
   "source": [
    "#this is a nicer list just for demonstation\n",
    "developerLinks = list(uriDeveloper)"
   ]
  },
  {
   "cell_type": "code",
   "execution_count": 11,
   "metadata": {},
   "outputs": [],
   "source": [
    "#sources all uri when an estate is null type - links to private offers\n",
    "uriPrivate = []\n",
    "for element in urls:\n",
    "    if element['type'] == '':\n",
    "        uriPrivate.append(element['uri'])"
   ]
  },
  {
   "cell_type": "code",
   "execution_count": 12,
   "metadata": {},
   "outputs": [],
   "source": [
    "#adds a url string before each row of the list and saves to a variable\n",
    "privateLinks = list(map('https://www.bezrealitky.cz/nemovitosti-byty-domy/'.__add__,uriPrivate))"
   ]
  },
  {
   "cell_type": "code",
   "execution_count": 13,
   "metadata": {
    "scrolled": true
   },
   "outputs": [],
   "source": [
    "#take a small sample from privateLinks because of original sample being too large to process fast\n",
    "test = privateLinks[:100]"
   ]
  },
  {
   "cell_type": "code",
   "execution_count": null,
   "metadata": {},
   "outputs": [],
   "source": []
  },
  {
   "cell_type": "code",
   "execution_count": 15,
   "metadata": {},
   "outputs": [],
   "source": [
    "#list of districts of offers\n",
    "districts = []\n",
    "for i in test:\n",
    "    districts.append(bz.parseDistrict(i))\n",
    "numDistricts = np.array(districts)"
   ]
  },
  {
   "cell_type": "code",
   "execution_count": null,
   "metadata": {},
   "outputs": [],
   "source": [
    "#list of regions of offers\n",
    "regions = []\n",
    "for i in test:\n",
    "    regions.append(bz.parseRegion(i))\n",
    "numRegions = np.array(regions)"
   ]
  },
  {
   "cell_type": "code",
   "execution_count": null,
   "metadata": {},
   "outputs": [],
   "source": [
    "#list of types of offers\n",
    "types = []\n",
    "for i in test:\n",
    "    types.append(bz.parseType(i))\n",
    "numTypes = np.array(types)"
   ]
  },
  {
   "cell_type": "code",
   "execution_count": null,
   "metadata": {},
   "outputs": [],
   "source": [
    "#class valuesPrcSize created in this document instead of bezreaWebScrape because of dificulties caused \n",
    "#by the use of \"re\" library in separate file\n",
    "class valuesPrcSize:\n",
    "    '''\n",
    "    class of functions used to scrape Price, Size and Coordinates from links passed as parameters for functions\n",
    "    '''\n",
    "    def __init__(self,link,allowLog=True):\n",
    "        self.allowLog = allowLog\n",
    "        self.link = link\n",
    "        r = requests.get(link)\n",
    "        r.encoding='UTF-8'\n",
    "        self.soup = BeautifulSoup(r.text,'lxml')\n",
    "        if self.allowLog:\n",
    "            print('Success!')\n",
    "            \n",
    "    def parsePrice(self):\n",
    "        '''\n",
    "        extraction of price of an offer as an integer\n",
    "        uses link to a offer as \"self\" parametr\n",
    "        '''\n",
    "        pdTbl = pd.read_html(self,attrs= {\"class\":\"table\"})\n",
    "        numbers = re.findall(r\"\\d+\",pdTbl[0][1][4])\n",
    "        price = int(''.join(numbers))\n",
    "        return price\n",
    "    \n",
    "    def parseSize(self):\n",
    "        '''\n",
    "        extraction of size of an offer as an integer\n",
    "        uses link to a offer as \"self\" parametr\n",
    "        '''\n",
    "        pdTbl = pd.read_html(self,attrs= {\"class\":\"table\"})\n",
    "        size = int(re.findall(r\"\\d+\",pdTbl[0][1][3])[0])\n",
    "        return size\n",
    "    \n",
    "    def parseCoordinates(self):\n",
    "        '''\n",
    "        extraction of coordinates of an offer\n",
    "        uses link to a offer as \"self\" parametr\n",
    "        '''\n",
    "        web = urllib.request.urlopen(self)\n",
    "        soup = BeautifulSoup(web,'lxml')\n",
    "        lat = '.'.join(re.findall(r\"\\d+\",soup.findAll(\"iframe\")[1]['src'].split(\"=\")[1])[0:2])\n",
    "        lng = '.'.join(re.findall(r\"\\d+\",soup.findAll(\"iframe\")[1]['src'].split(\"=\")[1])[2:4])\n",
    "        coord = [lat, lng]\n",
    "        return coord"
   ]
  },
  {
   "cell_type": "code",
   "execution_count": null,
   "metadata": {},
   "outputs": [],
   "source": [
    "#list of coordinates\n",
    "coordinates = []\n",
    "for i in test:\n",
    "    coordinates.append(valuesPrcSize.parseCoordinates(i))"
   ]
  },
  {
   "cell_type": "code",
   "execution_count": null,
   "metadata": {},
   "outputs": [],
   "source": [
    "#creation on numpy array of prices for all offers\n",
    "prices = []\n",
    "for i in test:\n",
    "    prices.append(valuesPrcSize.parsePrice(i))\n",
    "numPrices = np.array(prices)"
   ]
  },
  {
   "cell_type": "code",
   "execution_count": null,
   "metadata": {},
   "outputs": [],
   "source": [
    "#creation on numpy array of sizes for all offers\n",
    "sizes = []\n",
    "for i in test:\n",
    "    sizes.append(valuesPrcSize.parseSize(i))\n",
    "numSizes = np.array(sizes)"
   ]
  },
  {
   "cell_type": "code",
   "execution_count": null,
   "metadata": {},
   "outputs": [],
   "source": []
  },
  {
   "cell_type": "code",
   "execution_count": null,
   "metadata": {},
   "outputs": [],
   "source": []
  },
  {
   "cell_type": "code",
   "execution_count": null,
   "metadata": {},
   "outputs": [],
   "source": []
  },
  {
   "cell_type": "markdown",
   "metadata": {},
   "source": [
    "SIZE STATISTICS"
   ]
  },
  {
   "cell_type": "code",
   "execution_count": null,
   "metadata": {},
   "outputs": [],
   "source": [
    "#average size of offerings\n",
    "np.average(numSizes)"
   ]
  },
  {
   "cell_type": "code",
   "execution_count": null,
   "metadata": {},
   "outputs": [],
   "source": [
    "#median size of offerings\n",
    "np.median(numSizes)"
   ]
  },
  {
   "cell_type": "code",
   "execution_count": null,
   "metadata": {},
   "outputs": [],
   "source": [
    "#biggest size from offerings\n",
    "np.max(numSizes)"
   ]
  },
  {
   "cell_type": "code",
   "execution_count": null,
   "metadata": {
    "scrolled": false
   },
   "outputs": [],
   "source": [
    "#smallest size of a offer\n",
    "np.min(numSizes)"
   ]
  },
  {
   "cell_type": "code",
   "execution_count": null,
   "metadata": {},
   "outputs": [],
   "source": []
  },
  {
   "cell_type": "code",
   "execution_count": null,
   "metadata": {},
   "outputs": [],
   "source": []
  },
  {
   "cell_type": "code",
   "execution_count": null,
   "metadata": {},
   "outputs": [],
   "source": []
  },
  {
   "cell_type": "raw",
   "metadata": {},
   "source": [
    "PRICE STATISTICS"
   ]
  },
  {
   "cell_type": "code",
   "execution_count": null,
   "metadata": {},
   "outputs": [],
   "source": [
    "#average price of offers\n",
    "np.average(numPrices)"
   ]
  },
  {
   "cell_type": "code",
   "execution_count": null,
   "metadata": {},
   "outputs": [],
   "source": [
    "#median price of offers\n",
    "str(np.median(numPrices)) + ' Kč'"
   ]
  },
  {
   "cell_type": "code",
   "execution_count": null,
   "metadata": {},
   "outputs": [],
   "source": [
    "#largest price from all offerings\n",
    "str(np.max(numPrices)) + ' Kč'"
   ]
  },
  {
   "cell_type": "code",
   "execution_count": null,
   "metadata": {},
   "outputs": [],
   "source": [
    "#lowest price from all offerings\n",
    "np.min(numPrices)"
   ]
  },
  {
   "cell_type": "code",
   "execution_count": null,
   "metadata": {},
   "outputs": [],
   "source": [
    "#standard deviaton of offers\n",
    "np.std(numPrices)"
   ]
  },
  {
   "cell_type": "code",
   "execution_count": null,
   "metadata": {},
   "outputs": [],
   "source": []
  },
  {
   "cell_type": "code",
   "execution_count": null,
   "metadata": {},
   "outputs": [],
   "source": []
  },
  {
   "cell_type": "code",
   "execution_count": null,
   "metadata": {},
   "outputs": [],
   "source": []
  },
  {
   "cell_type": "code",
   "execution_count": null,
   "metadata": {},
   "outputs": [],
   "source": []
  },
  {
   "cell_type": "code",
   "execution_count": null,
   "metadata": {},
   "outputs": [],
   "source": []
  },
  {
   "cell_type": "code",
   "execution_count": null,
   "metadata": {},
   "outputs": [],
   "source": [
    "PRICE PER METER SQUARED STATISTICS"
   ]
  },
  {
   "cell_type": "code",
   "execution_count": null,
   "metadata": {},
   "outputs": [],
   "source": [
    "#calculation of price per meter squared\n",
    "pricePerMtr = np.divide(numPrices,numSizes)"
   ]
  },
  {
   "cell_type": "code",
   "execution_count": null,
   "metadata": {},
   "outputs": [],
   "source": [
    "#average price per meter\n",
    "np.average(pricePerMtr)"
   ]
  },
  {
   "cell_type": "code",
   "execution_count": null,
   "metadata": {},
   "outputs": [],
   "source": [
    "#median of prices per meter\n",
    "np.median(pricePerMtr)"
   ]
  },
  {
   "cell_type": "code",
   "execution_count": null,
   "metadata": {},
   "outputs": [],
   "source": [
    "#largest price per meter\n",
    "np.max(pricePerMtr)"
   ]
  },
  {
   "cell_type": "code",
   "execution_count": null,
   "metadata": {},
   "outputs": [],
   "source": [
    "#Lowest price per meter\n",
    "np.min(pricePerMtr)"
   ]
  },
  {
   "cell_type": "code",
   "execution_count": null,
   "metadata": {},
   "outputs": [],
   "source": [
    "#standard deviation of price per meter\n",
    "np.std(pricePerMtr)"
   ]
  },
  {
   "cell_type": "code",
   "execution_count": null,
   "metadata": {},
   "outputs": [],
   "source": []
  },
  {
   "cell_type": "code",
   "execution_count": null,
   "metadata": {},
   "outputs": [],
   "source": []
  },
  {
   "cell_type": "code",
   "execution_count": null,
   "metadata": {},
   "outputs": [],
   "source": []
  },
  {
   "cell_type": "code",
   "execution_count": null,
   "metadata": {},
   "outputs": [],
   "source": []
  },
  {
   "cell_type": "code",
   "execution_count": null,
   "metadata": {},
   "outputs": [],
   "source": []
  },
  {
   "cell_type": "markdown",
   "metadata": {},
   "source": [
    "VISUALIZATIONS"
   ]
  },
  {
   "cell_type": "markdown",
   "metadata": {},
   "source": [
    "visualiations of prices and sizes"
   ]
  },
  {
   "cell_type": "code",
   "execution_count": null,
   "metadata": {
    "scrolled": true
   },
   "outputs": [],
   "source": [
    "#scatter plot showing the relations and distribution between price and sie of an offer\n",
    "plt.scatter(numPrices,numSizes)"
   ]
  },
  {
   "cell_type": "code",
   "execution_count": null,
   "metadata": {},
   "outputs": [],
   "source": [
    "#bar graph of distribution of sizes of offers\n",
    "sns.distplot(numSizes)\n",
    "plt.show()"
   ]
  },
  {
   "cell_type": "code",
   "execution_count": null,
   "metadata": {},
   "outputs": [],
   "source": [
    "#bar graph of distribution of price per meter of offers\n",
    "sns.distplot(pricePerMtr)"
   ]
  },
  {
   "cell_type": "code",
   "execution_count": null,
   "metadata": {},
   "outputs": [],
   "source": [
    "#combination of scatter plot and distributional bar graphs of prices and sizes of offers\n",
    "sns.jointplot(numPrices,numSizes,size=(10))\n",
    "plt.show()"
   ]
  },
  {
   "cell_type": "markdown",
   "metadata": {},
   "source": [
    "VISUALIZATIONS of types and districts"
   ]
  },
  {
   "cell_type": "code",
   "execution_count": null,
   "metadata": {},
   "outputs": [],
   "source": [
    "#bar graph of count of different types of flats being offered\n",
    "sns.countplot(types)"
   ]
  },
  {
   "cell_type": "code",
   "execution_count": null,
   "metadata": {},
   "outputs": [],
   "source": [
    "#bar graph of counf of offers in different regions\n",
    "plt.figure(figsize=(28,14)) \n",
    "sns.countplot(regions)\n",
    "plt.show()"
   ]
  },
  {
   "cell_type": "code",
   "execution_count": null,
   "metadata": {},
   "outputs": [],
   "source": [
    "#bar graph of counf of offers in different districts\n",
    "plt.figure(figsize=(100,34)) \n",
    "sns.countplot(districts)\n",
    "plt.show()\n",
    "#unfortunatelly, the image cannot be well seen in Jupyter Notebook. We reccomend opening the image in a new tab"
   ]
  },
  {
   "cell_type": "code",
   "execution_count": null,
   "metadata": {},
   "outputs": [],
   "source": [
    "#boxplot for prices by types of offers\n",
    "plt.figure(figsize=(15,10))\n",
    "ax = sns.boxplot(types, prices)\n",
    "ax.tick_params(labelsize=13)\n",
    "plt.show()"
   ]
  },
  {
   "cell_type": "code",
   "execution_count": null,
   "metadata": {},
   "outputs": [],
   "source": [
    "#boxplot of prices per meter squared by districts\n",
    "#again, we recommend opening the image in a new tab\n",
    "plt.figure(figsize=(35,10))\n",
    "ax = sns.boxplot(districts, pricePerMtr)\n",
    "ax.set_xticklabels(ax.get_xticklabels(),rotation=50,ha=\"right\")\n",
    "ax.tick_params(labelsize=13)\n",
    "plt.show()"
   ]
  }
 ],
 "metadata": {
  "kernelspec": {
   "display_name": "Python 3",
   "language": "python",
   "name": "python3"
  },
  "language_info": {
   "codemirror_mode": {
    "name": "ipython",
    "version": 3
   },
   "file_extension": ".py",
   "mimetype": "text/x-python",
   "name": "python",
   "nbconvert_exporter": "python",
   "pygments_lexer": "ipython3",
   "version": "3.7.1"
  }
 },
 "nbformat": 4,
 "nbformat_minor": 2
}
